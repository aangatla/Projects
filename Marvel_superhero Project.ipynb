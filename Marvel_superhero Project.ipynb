{
 "cells": [
  {
   "cell_type": "code",
   "execution_count": 1,
   "id": "8a7849f8",
   "metadata": {},
   "outputs": [],
   "source": [
    "import pandas as pd\n",
    "import matplotlib.pyplot as plt\n",
    "import seaborn as sns"
   ]
  },
  {
   "cell_type": "code",
   "execution_count": 5,
   "id": "f29be3df",
   "metadata": {},
   "outputs": [],
   "source": [
    "marvel = pd.read_csv(\"characters_stats.csv\")\n"
   ]
  },
  {
   "cell_type": "code",
   "execution_count": 6,
   "id": "d6721403",
   "metadata": {},
   "outputs": [
    {
     "data": {
      "text/plain": [
       "(611, 9)"
      ]
     },
     "execution_count": 6,
     "metadata": {},
     "output_type": "execute_result"
    }
   ],
   "source": [
    "marvel.shape\n",
    "#row number denotes the number of characters in our dataset and column denotes details about\n",
    "# those characters"
   ]
  },
  {
   "cell_type": "code",
   "execution_count": 7,
   "id": "a7d27e0d",
   "metadata": {},
   "outputs": [
    {
     "data": {
      "text/html": [
       "<div>\n",
       "<style scoped>\n",
       "    .dataframe tbody tr th:only-of-type {\n",
       "        vertical-align: middle;\n",
       "    }\n",
       "\n",
       "    .dataframe tbody tr th {\n",
       "        vertical-align: top;\n",
       "    }\n",
       "\n",
       "    .dataframe thead th {\n",
       "        text-align: right;\n",
       "    }\n",
       "</style>\n",
       "<table border=\"1\" class=\"dataframe\">\n",
       "  <thead>\n",
       "    <tr style=\"text-align: right;\">\n",
       "      <th></th>\n",
       "      <th>Name</th>\n",
       "      <th>Alignment</th>\n",
       "      <th>Intelligence</th>\n",
       "      <th>Strength</th>\n",
       "      <th>Speed</th>\n",
       "      <th>Durability</th>\n",
       "      <th>Power</th>\n",
       "      <th>Combat</th>\n",
       "      <th>Total</th>\n",
       "    </tr>\n",
       "  </thead>\n",
       "  <tbody>\n",
       "    <tr>\n",
       "      <th>0</th>\n",
       "      <td>3-D Man</td>\n",
       "      <td>good</td>\n",
       "      <td>50</td>\n",
       "      <td>31</td>\n",
       "      <td>43</td>\n",
       "      <td>32</td>\n",
       "      <td>25</td>\n",
       "      <td>52</td>\n",
       "      <td>233</td>\n",
       "    </tr>\n",
       "    <tr>\n",
       "      <th>1</th>\n",
       "      <td>A-Bomb</td>\n",
       "      <td>good</td>\n",
       "      <td>38</td>\n",
       "      <td>100</td>\n",
       "      <td>17</td>\n",
       "      <td>80</td>\n",
       "      <td>17</td>\n",
       "      <td>64</td>\n",
       "      <td>316</td>\n",
       "    </tr>\n",
       "    <tr>\n",
       "      <th>2</th>\n",
       "      <td>Abe Sapien</td>\n",
       "      <td>good</td>\n",
       "      <td>88</td>\n",
       "      <td>14</td>\n",
       "      <td>35</td>\n",
       "      <td>42</td>\n",
       "      <td>35</td>\n",
       "      <td>85</td>\n",
       "      <td>299</td>\n",
       "    </tr>\n",
       "    <tr>\n",
       "      <th>3</th>\n",
       "      <td>Abin Sur</td>\n",
       "      <td>good</td>\n",
       "      <td>50</td>\n",
       "      <td>90</td>\n",
       "      <td>53</td>\n",
       "      <td>64</td>\n",
       "      <td>84</td>\n",
       "      <td>65</td>\n",
       "      <td>406</td>\n",
       "    </tr>\n",
       "    <tr>\n",
       "      <th>4</th>\n",
       "      <td>Abomination</td>\n",
       "      <td>bad</td>\n",
       "      <td>63</td>\n",
       "      <td>80</td>\n",
       "      <td>53</td>\n",
       "      <td>90</td>\n",
       "      <td>55</td>\n",
       "      <td>95</td>\n",
       "      <td>436</td>\n",
       "    </tr>\n",
       "  </tbody>\n",
       "</table>\n",
       "</div>"
      ],
      "text/plain": [
       "          Name Alignment  Intelligence  Strength  Speed  Durability  Power  \\\n",
       "0      3-D Man      good            50        31     43          32     25   \n",
       "1       A-Bomb      good            38       100     17          80     17   \n",
       "2   Abe Sapien      good            88        14     35          42     35   \n",
       "3     Abin Sur      good            50        90     53          64     84   \n",
       "4  Abomination       bad            63        80     53          90     55   \n",
       "\n",
       "   Combat  Total  \n",
       "0      52    233  \n",
       "1      64    316  \n",
       "2      85    299  \n",
       "3      65    406  \n",
       "4      95    436  "
      ]
     },
     "execution_count": 7,
     "metadata": {},
     "output_type": "execute_result"
    }
   ],
   "source": [
    "marvel.head()"
   ]
  },
  {
   "cell_type": "code",
   "execution_count": 9,
   "id": "1580b2e2",
   "metadata": {},
   "outputs": [
    {
     "data": {
      "text/plain": [
       "good       432\n",
       "bad        165\n",
       "neutral     11\n",
       "Name: Alignment, dtype: int64"
      ]
     },
     "execution_count": 9,
     "metadata": {},
     "output_type": "execute_result"
    }
   ],
   "source": [
    "#analysing alignment column\n",
    "marvel[\"Alignment\"].value_counts()"
   ]
  },
  {
   "cell_type": "markdown",
   "id": "ce74e983",
   "metadata": {},
   "source": [
    "This shows that 432 characters are good or heroes while 165 are villians and rest 11 are neutral."
   ]
  },
  {
   "cell_type": "code",
   "execution_count": 15,
   "id": "42e94761",
   "metadata": {},
   "outputs": [
    {
     "data": {
      "text/html": [
       "<div>\n",
       "<style scoped>\n",
       "    .dataframe tbody tr th:only-of-type {\n",
       "        vertical-align: middle;\n",
       "    }\n",
       "\n",
       "    .dataframe tbody tr th {\n",
       "        vertical-align: top;\n",
       "    }\n",
       "\n",
       "    .dataframe thead th {\n",
       "        text-align: right;\n",
       "    }\n",
       "</style>\n",
       "<table border=\"1\" class=\"dataframe\">\n",
       "  <thead>\n",
       "    <tr style=\"text-align: right;\">\n",
       "      <th></th>\n",
       "      <th>Name</th>\n",
       "      <th>Alignment</th>\n",
       "    </tr>\n",
       "  </thead>\n",
       "  <tbody>\n",
       "    <tr>\n",
       "      <th>0</th>\n",
       "      <td>3-D Man</td>\n",
       "      <td>good</td>\n",
       "    </tr>\n",
       "    <tr>\n",
       "      <th>1</th>\n",
       "      <td>A-Bomb</td>\n",
       "      <td>good</td>\n",
       "    </tr>\n",
       "    <tr>\n",
       "      <th>2</th>\n",
       "      <td>Abe Sapien</td>\n",
       "      <td>good</td>\n",
       "    </tr>\n",
       "    <tr>\n",
       "      <th>3</th>\n",
       "      <td>Abin Sur</td>\n",
       "      <td>good</td>\n",
       "    </tr>\n",
       "    <tr>\n",
       "      <th>6</th>\n",
       "      <td>Adam Monroe</td>\n",
       "      <td>good</td>\n",
       "    </tr>\n",
       "  </tbody>\n",
       "</table>\n",
       "</div>"
      ],
      "text/plain": [
       "          Name Alignment\n",
       "0      3-D Man      good\n",
       "1       A-Bomb      good\n",
       "2   Abe Sapien      good\n",
       "3     Abin Sur      good\n",
       "6  Adam Monroe      good"
      ]
     },
     "execution_count": 15,
     "metadata": {},
     "output_type": "execute_result"
    }
   ],
   "source": [
    "#accessing good characters\n",
    "good_char = marvel[marvel[\"Alignment\"] == \"good\"]\n",
    "good_char[[\"Name\", \"Alignment\"]].head()"
   ]
  },
  {
   "cell_type": "code",
   "execution_count": 21,
   "id": "f68d283c",
   "metadata": {},
   "outputs": [
    {
     "data": {
      "text/html": [
       "<div>\n",
       "<style scoped>\n",
       "    .dataframe tbody tr th:only-of-type {\n",
       "        vertical-align: middle;\n",
       "    }\n",
       "\n",
       "    .dataframe tbody tr th {\n",
       "        vertical-align: top;\n",
       "    }\n",
       "\n",
       "    .dataframe thead th {\n",
       "        text-align: right;\n",
       "    }\n",
       "</style>\n",
       "<table border=\"1\" class=\"dataframe\">\n",
       "  <thead>\n",
       "    <tr style=\"text-align: right;\">\n",
       "      <th></th>\n",
       "      <th>Name</th>\n",
       "      <th>Alignment</th>\n",
       "      <th>Intelligence</th>\n",
       "      <th>Strength</th>\n",
       "      <th>Speed</th>\n",
       "      <th>Durability</th>\n",
       "      <th>Power</th>\n",
       "      <th>Combat</th>\n",
       "      <th>Total</th>\n",
       "    </tr>\n",
       "  </thead>\n",
       "  <tbody>\n",
       "    <tr>\n",
       "      <th>231</th>\n",
       "      <td>Flash III</td>\n",
       "      <td>good</td>\n",
       "      <td>63</td>\n",
       "      <td>10</td>\n",
       "      <td>100</td>\n",
       "      <td>60</td>\n",
       "      <td>83</td>\n",
       "      <td>32</td>\n",
       "      <td>348</td>\n",
       "    </tr>\n",
       "    <tr>\n",
       "      <th>304</th>\n",
       "      <td>Jack of Hearts</td>\n",
       "      <td>good</td>\n",
       "      <td>63</td>\n",
       "      <td>55</td>\n",
       "      <td>100</td>\n",
       "      <td>30</td>\n",
       "      <td>70</td>\n",
       "      <td>30</td>\n",
       "      <td>348</td>\n",
       "    </tr>\n",
       "    <tr>\n",
       "      <th>295</th>\n",
       "      <td>Impulse</td>\n",
       "      <td>good</td>\n",
       "      <td>50</td>\n",
       "      <td>10</td>\n",
       "      <td>100</td>\n",
       "      <td>60</td>\n",
       "      <td>63</td>\n",
       "      <td>60</td>\n",
       "      <td>343</td>\n",
       "    </tr>\n",
       "    <tr>\n",
       "      <th>525</th>\n",
       "      <td>Stardust</td>\n",
       "      <td>good</td>\n",
       "      <td>88</td>\n",
       "      <td>85</td>\n",
       "      <td>100</td>\n",
       "      <td>110</td>\n",
       "      <td>100</td>\n",
       "      <td>85</td>\n",
       "      <td>568</td>\n",
       "    </tr>\n",
       "    <tr>\n",
       "      <th>447</th>\n",
       "      <td>Quicksilver</td>\n",
       "      <td>good</td>\n",
       "      <td>63</td>\n",
       "      <td>28</td>\n",
       "      <td>100</td>\n",
       "      <td>60</td>\n",
       "      <td>57</td>\n",
       "      <td>56</td>\n",
       "      <td>364</td>\n",
       "    </tr>\n",
       "  </tbody>\n",
       "</table>\n",
       "</div>"
      ],
      "text/plain": [
       "               Name Alignment  Intelligence  Strength  Speed  Durability  \\\n",
       "231       Flash III      good            63        10    100          60   \n",
       "304  Jack of Hearts      good            63        55    100          30   \n",
       "295         Impulse      good            50        10    100          60   \n",
       "525        Stardust      good            88        85    100         110   \n",
       "447     Quicksilver      good            63        28    100          60   \n",
       "\n",
       "     Power  Combat  Total  \n",
       "231     83      32    348  \n",
       "304     70      30    348  \n",
       "295     63      60    343  \n",
       "525    100      85    568  \n",
       "447     57      56    364  "
      ]
     },
     "execution_count": 21,
     "metadata": {},
     "output_type": "execute_result"
    }
   ],
   "source": [
    "# analysing speed of superheros or characters with good aligment value\n",
    "speed_char = good_char.sort_values(by = \"Speed\", ascending = False)\n",
    "speed_char.head()"
   ]
  },
  {
   "cell_type": "code",
   "execution_count": 65,
   "id": "00af4a62",
   "metadata": {},
   "outputs": [
    {
     "data": {
      "text/plain": [
       "Text(0.5, 1.0, 'Superheroes Speed Distribution')"
      ]
     },
     "execution_count": 65,
     "metadata": {},
     "output_type": "execute_result"
    },
    {
     "data": {
      "image/png": "[encoded data removed]",
      "text/plain": [
       "<Figure size 432x288 with 1 Axes>"
      ]
     },
     "metadata": {
      "needs_background": "light"
     },
     "output_type": "display_data"
    }
   ],
   "source": [
    "# Plotting histogram for speed of superheros\n",
    "x = speed_char[\"Speed\"]\n",
    "plt.hist(x)\n",
    "plt.xlabel(\"Speed\",color = \"green\")\n",
    "plt.xlabel(\"Number of Superheroes\",color = \"green\")\n",
    "plt.title(\"Superheroes Speed Distribution\",color = \"green\")"
   ]
  },
  {
   "cell_type": "code",
   "execution_count": 24,
   "id": "51b92206",
   "metadata": {},
   "outputs": [
    {
     "data": {
      "text/html": [
       "<div>\n",
       "<style scoped>\n",
       "    .dataframe tbody tr th:only-of-type {\n",
       "        vertical-align: middle;\n",
       "    }\n",
       "\n",
       "    .dataframe tbody tr th {\n",
       "        vertical-align: top;\n",
       "    }\n",
       "\n",
       "    .dataframe thead th {\n",
       "        text-align: right;\n",
       "    }\n",
       "</style>\n",
       "<table border=\"1\" class=\"dataframe\">\n",
       "  <thead>\n",
       "    <tr style=\"text-align: right;\">\n",
       "      <th></th>\n",
       "      <th>Name</th>\n",
       "      <th>Alignment</th>\n",
       "      <th>Intelligence</th>\n",
       "      <th>Strength</th>\n",
       "      <th>Speed</th>\n",
       "      <th>Durability</th>\n",
       "      <th>Power</th>\n",
       "      <th>Combat</th>\n",
       "      <th>Total</th>\n",
       "    </tr>\n",
       "  </thead>\n",
       "  <tbody>\n",
       "    <tr>\n",
       "      <th>609</th>\n",
       "      <td>Zatanna</td>\n",
       "      <td>good</td>\n",
       "      <td>75</td>\n",
       "      <td>10</td>\n",
       "      <td>23</td>\n",
       "      <td>28</td>\n",
       "      <td>100</td>\n",
       "      <td>56</td>\n",
       "      <td>292</td>\n",
       "    </tr>\n",
       "    <tr>\n",
       "      <th>546</th>\n",
       "      <td>Thor</td>\n",
       "      <td>good</td>\n",
       "      <td>69</td>\n",
       "      <td>100</td>\n",
       "      <td>92</td>\n",
       "      <td>100</td>\n",
       "      <td>100</td>\n",
       "      <td>85</td>\n",
       "      <td>546</td>\n",
       "    </tr>\n",
       "    <tr>\n",
       "      <th>511</th>\n",
       "      <td>Spawn</td>\n",
       "      <td>good</td>\n",
       "      <td>75</td>\n",
       "      <td>60</td>\n",
       "      <td>50</td>\n",
       "      <td>90</td>\n",
       "      <td>100</td>\n",
       "      <td>95</td>\n",
       "      <td>470</td>\n",
       "    </tr>\n",
       "    <tr>\n",
       "      <th>69</th>\n",
       "      <td>Beta Ray Bill</td>\n",
       "      <td>good</td>\n",
       "      <td>63</td>\n",
       "      <td>80</td>\n",
       "      <td>35</td>\n",
       "      <td>95</td>\n",
       "      <td>100</td>\n",
       "      <td>84</td>\n",
       "      <td>457</td>\n",
       "    </tr>\n",
       "    <tr>\n",
       "      <th>70</th>\n",
       "      <td>Beyonder</td>\n",
       "      <td>good</td>\n",
       "      <td>88</td>\n",
       "      <td>100</td>\n",
       "      <td>23</td>\n",
       "      <td>100</td>\n",
       "      <td>100</td>\n",
       "      <td>56</td>\n",
       "      <td>467</td>\n",
       "    </tr>\n",
       "  </tbody>\n",
       "</table>\n",
       "</div>"
      ],
      "text/plain": [
       "              Name Alignment  Intelligence  Strength  Speed  Durability  \\\n",
       "609        Zatanna      good            75        10     23          28   \n",
       "546           Thor      good            69       100     92         100   \n",
       "511          Spawn      good            75        60     50          90   \n",
       "69   Beta Ray Bill      good            63        80     35          95   \n",
       "70        Beyonder      good            88       100     23         100   \n",
       "\n",
       "     Power  Combat  Total  \n",
       "609    100      56    292  \n",
       "546    100      85    546  \n",
       "511    100      95    470  \n",
       "69     100      84    457  \n",
       "70     100      56    467  "
      ]
     },
     "execution_count": 24,
     "metadata": {},
     "output_type": "execute_result"
    }
   ],
   "source": [
    "# analysing power of superheros\n",
    "power_char = good_char.sort_values(by = \"Power\", ascending = False)\n",
    "power_char.head()"
   ]
  },
  {
   "cell_type": "code",
   "execution_count": 33,
   "id": "7682d849",
   "metadata": {},
   "outputs": [
    {
     "data": {
      "text/html": [
       "<div>\n",
       "<style scoped>\n",
       "    .dataframe tbody tr th:only-of-type {\n",
       "        vertical-align: middle;\n",
       "    }\n",
       "\n",
       "    .dataframe tbody tr th {\n",
       "        vertical-align: top;\n",
       "    }\n",
       "\n",
       "    .dataframe thead th {\n",
       "        text-align: right;\n",
       "    }\n",
       "</style>\n",
       "<table border=\"1\" class=\"dataframe\">\n",
       "  <thead>\n",
       "    <tr style=\"text-align: right;\">\n",
       "      <th></th>\n",
       "      <th>Name</th>\n",
       "      <th>Alignment</th>\n",
       "      <th>Intelligence</th>\n",
       "      <th>Strength</th>\n",
       "      <th>Speed</th>\n",
       "      <th>Durability</th>\n",
       "      <th>Power</th>\n",
       "      <th>Combat</th>\n",
       "      <th>Total</th>\n",
       "    </tr>\n",
       "  </thead>\n",
       "  <tbody>\n",
       "    <tr>\n",
       "      <th>69</th>\n",
       "      <td>Beta Ray Bill</td>\n",
       "      <td>good</td>\n",
       "      <td>63</td>\n",
       "      <td>80</td>\n",
       "      <td>35</td>\n",
       "      <td>95</td>\n",
       "      <td>100</td>\n",
       "      <td>84</td>\n",
       "      <td>457</td>\n",
       "    </tr>\n",
       "    <tr>\n",
       "      <th>70</th>\n",
       "      <td>Beyonder</td>\n",
       "      <td>good</td>\n",
       "      <td>88</td>\n",
       "      <td>100</td>\n",
       "      <td>23</td>\n",
       "      <td>100</td>\n",
       "      <td>100</td>\n",
       "      <td>56</td>\n",
       "      <td>467</td>\n",
       "    </tr>\n",
       "    <tr>\n",
       "      <th>85</th>\n",
       "      <td>Black Bolt</td>\n",
       "      <td>good</td>\n",
       "      <td>75</td>\n",
       "      <td>67</td>\n",
       "      <td>100</td>\n",
       "      <td>84</td>\n",
       "      <td>100</td>\n",
       "      <td>56</td>\n",
       "      <td>482</td>\n",
       "    </tr>\n",
       "    <tr>\n",
       "      <th>129</th>\n",
       "      <td>Cable</td>\n",
       "      <td>good</td>\n",
       "      <td>88</td>\n",
       "      <td>48</td>\n",
       "      <td>23</td>\n",
       "      <td>56</td>\n",
       "      <td>100</td>\n",
       "      <td>80</td>\n",
       "      <td>395</td>\n",
       "    </tr>\n",
       "    <tr>\n",
       "      <th>185</th>\n",
       "      <td>Deadman</td>\n",
       "      <td>good</td>\n",
       "      <td>50</td>\n",
       "      <td>10</td>\n",
       "      <td>33</td>\n",
       "      <td>100</td>\n",
       "      <td>100</td>\n",
       "      <td>42</td>\n",
       "      <td>335</td>\n",
       "    </tr>\n",
       "  </tbody>\n",
       "</table>\n",
       "</div>"
      ],
      "text/plain": [
       "              Name Alignment  Intelligence  Strength  Speed  Durability  \\\n",
       "69   Beta Ray Bill      good            63        80     35          95   \n",
       "70        Beyonder      good            88       100     23         100   \n",
       "85      Black Bolt      good            75        67    100          84   \n",
       "129          Cable      good            88        48     23          56   \n",
       "185        Deadman      good            50        10     33         100   \n",
       "\n",
       "     Power  Combat  Total  \n",
       "69     100      84    457  \n",
       "70     100      56    467  \n",
       "85     100      56    482  \n",
       "129    100      80    395  \n",
       "185    100      42    335  "
      ]
     },
     "execution_count": 33,
     "metadata": {},
     "output_type": "execute_result"
    }
   ],
   "source": [
    "#how many superheroes have power = 100\n",
    "power_100 = good_char[good_char[\"Power\"] == 100]\n",
    "power_100.head()\n"
   ]
  },
  {
   "cell_type": "code",
   "execution_count": 32,
   "id": "e4a93a93",
   "metadata": {},
   "outputs": [
    {
     "data": {
      "text/plain": [
       "(33, 9)"
      ]
     },
     "execution_count": 32,
     "metadata": {},
     "output_type": "execute_result"
    }
   ],
   "source": [
    "power_100.shape\n",
    "# so there are 33 superheroes which have Power = 100\n"
   ]
  },
  {
   "cell_type": "code",
   "execution_count": 39,
   "id": "92460c43",
   "metadata": {},
   "outputs": [
    {
     "data": {
      "text/html": [
       "<div>\n",
       "<style scoped>\n",
       "    .dataframe tbody tr th:only-of-type {\n",
       "        vertical-align: middle;\n",
       "    }\n",
       "\n",
       "    .dataframe tbody tr th {\n",
       "        vertical-align: top;\n",
       "    }\n",
       "\n",
       "    .dataframe thead th {\n",
       "        text-align: right;\n",
       "    }\n",
       "</style>\n",
       "<table border=\"1\" class=\"dataframe\">\n",
       "  <thead>\n",
       "    <tr style=\"text-align: right;\">\n",
       "      <th></th>\n",
       "      <th>Name</th>\n",
       "      <th>Total</th>\n",
       "    </tr>\n",
       "  </thead>\n",
       "  <tbody>\n",
       "    <tr>\n",
       "      <th>361</th>\n",
       "      <td>Martian Manhunter</td>\n",
       "      <td>581</td>\n",
       "    </tr>\n",
       "    <tr>\n",
       "      <th>537</th>\n",
       "      <td>Superman</td>\n",
       "      <td>579</td>\n",
       "    </tr>\n",
       "    <tr>\n",
       "      <th>525</th>\n",
       "      <td>Stardust</td>\n",
       "      <td>568</td>\n",
       "    </tr>\n",
       "    <tr>\n",
       "      <th>546</th>\n",
       "      <td>Thor</td>\n",
       "      <td>546</td>\n",
       "    </tr>\n",
       "    <tr>\n",
       "      <th>536</th>\n",
       "      <td>Supergirl</td>\n",
       "      <td>544</td>\n",
       "    </tr>\n",
       "  </tbody>\n",
       "</table>\n",
       "</div>"
      ],
      "text/plain": [
       "                  Name  Total\n",
       "361  Martian Manhunter    581\n",
       "537           Superman    579\n",
       "525           Stardust    568\n",
       "546               Thor    546\n",
       "536          Supergirl    544"
      ]
     },
     "execution_count": 39,
     "metadata": {},
     "output_type": "execute_result"
    }
   ],
   "source": [
    "# Which 5 super heroes are top 5 as far as total is concerned\n",
    "total_char = good_char.sort_values(by = \"Total\",ascending = False)[[\"Name\", \"Total\"]]\n",
    "total_char.head()"
   ]
  },
  {
   "cell_type": "code",
   "execution_count": 51,
   "id": "5d625670",
   "metadata": {},
   "outputs": [
    {
     "data": {
      "text/plain": [
       "Text(0.5, 0, 'Name of Superheroes')"
      ]
     },
     "execution_count": 51,
     "metadata": {},
     "output_type": "execute_result"
    },
    {
     "data": {
      "image/png": "[encoded data removed]",
      "text/plain": [
       "<Figure size 432x288 with 1 Axes>"
      ]
     },
     "metadata": {
      "needs_background": "light"
     },
     "output_type": "display_data"
    }
   ],
   "source": [
    "#plotting bar plot for superheroes which are top 5 in total\n",
    "x = total_char[\"Name\"][:5]\n",
    "y = total_char[\"Total\"][:5]\n",
    "plt.bar(x,y, color = \"magenta\",width = 0.75)\n",
    "plt.title(\"Top Superheroes\",color = \"green\")\n",
    "plt.ylabel(\"Total\", color = \"green\")\n",
    "plt.xlabel(\"Name of Superheroes\", color = \"green\")\n"
   ]
  },
  {
   "cell_type": "code",
   "execution_count": 53,
   "id": "4de59bd6",
   "metadata": {},
   "outputs": [
    {
     "data": {
      "text/html": [
       "<div>\n",
       "<style scoped>\n",
       "    .dataframe tbody tr th:only-of-type {\n",
       "        vertical-align: middle;\n",
       "    }\n",
       "\n",
       "    .dataframe tbody tr th {\n",
       "        vertical-align: top;\n",
       "    }\n",
       "\n",
       "    .dataframe thead th {\n",
       "        text-align: right;\n",
       "    }\n",
       "</style>\n",
       "<table border=\"1\" class=\"dataframe\">\n",
       "  <thead>\n",
       "    <tr style=\"text-align: right;\">\n",
       "      <th></th>\n",
       "      <th>Name</th>\n",
       "      <th>Alignment</th>\n",
       "      <th>Intelligence</th>\n",
       "      <th>Strength</th>\n",
       "      <th>Speed</th>\n",
       "      <th>Durability</th>\n",
       "      <th>Power</th>\n",
       "      <th>Combat</th>\n",
       "      <th>Total</th>\n",
       "    </tr>\n",
       "  </thead>\n",
       "  <tbody>\n",
       "    <tr>\n",
       "      <th>4</th>\n",
       "      <td>Abomination</td>\n",
       "      <td>bad</td>\n",
       "      <td>63</td>\n",
       "      <td>80</td>\n",
       "      <td>53</td>\n",
       "      <td>90</td>\n",
       "      <td>55</td>\n",
       "      <td>95</td>\n",
       "      <td>436</td>\n",
       "    </tr>\n",
       "    <tr>\n",
       "      <th>5</th>\n",
       "      <td>Abraxas</td>\n",
       "      <td>bad</td>\n",
       "      <td>88</td>\n",
       "      <td>100</td>\n",
       "      <td>83</td>\n",
       "      <td>99</td>\n",
       "      <td>100</td>\n",
       "      <td>56</td>\n",
       "      <td>526</td>\n",
       "    </tr>\n",
       "    <tr>\n",
       "      <th>11</th>\n",
       "      <td>Air-Walker</td>\n",
       "      <td>bad</td>\n",
       "      <td>50</td>\n",
       "      <td>85</td>\n",
       "      <td>100</td>\n",
       "      <td>85</td>\n",
       "      <td>100</td>\n",
       "      <td>40</td>\n",
       "      <td>460</td>\n",
       "    </tr>\n",
       "    <tr>\n",
       "      <th>16</th>\n",
       "      <td>Amazo</td>\n",
       "      <td>bad</td>\n",
       "      <td>75</td>\n",
       "      <td>100</td>\n",
       "      <td>100</td>\n",
       "      <td>100</td>\n",
       "      <td>100</td>\n",
       "      <td>100</td>\n",
       "      <td>575</td>\n",
       "    </tr>\n",
       "    <tr>\n",
       "      <th>17</th>\n",
       "      <td>Ammo</td>\n",
       "      <td>bad</td>\n",
       "      <td>1</td>\n",
       "      <td>1</td>\n",
       "      <td>1</td>\n",
       "      <td>1</td>\n",
       "      <td>0</td>\n",
       "      <td>1</td>\n",
       "      <td>5</td>\n",
       "    </tr>\n",
       "  </tbody>\n",
       "</table>\n",
       "</div>"
      ],
      "text/plain": [
       "           Name Alignment  Intelligence  Strength  Speed  Durability  Power  \\\n",
       "4   Abomination       bad            63        80     53          90     55   \n",
       "5       Abraxas       bad            88       100     83          99    100   \n",
       "11   Air-Walker       bad            50        85    100          85    100   \n",
       "16        Amazo       bad            75       100    100         100    100   \n",
       "17         Ammo       bad             1         1      1           1      0   \n",
       "\n",
       "    Combat  Total  \n",
       "4       95    436  \n",
       "5       56    526  \n",
       "11      40    460  \n",
       "16     100    575  \n",
       "17       1      5  "
      ]
     },
     "execution_count": 53,
     "metadata": {},
     "output_type": "execute_result"
    }
   ],
   "source": [
    "#Now analysing super villians \n",
    "supervillians = marvel[marvel[\"Alignment\"] == \"bad\"]\n",
    "supervillians.head()"
   ]
  },
  {
   "cell_type": "code",
   "execution_count": 57,
   "id": "a9ac732e",
   "metadata": {},
   "outputs": [
    {
     "data": {
      "text/html": [
       "<div>\n",
       "<style scoped>\n",
       "    .dataframe tbody tr th:only-of-type {\n",
       "        vertical-align: middle;\n",
       "    }\n",
       "\n",
       "    .dataframe tbody tr th {\n",
       "        vertical-align: top;\n",
       "    }\n",
       "\n",
       "    .dataframe thead th {\n",
       "        text-align: right;\n",
       "    }\n",
       "</style>\n",
       "<table border=\"1\" class=\"dataframe\">\n",
       "  <thead>\n",
       "    <tr style=\"text-align: right;\">\n",
       "      <th></th>\n",
       "      <th>Name</th>\n",
       "      <th>Speed</th>\n",
       "    </tr>\n",
       "  </thead>\n",
       "  <tbody>\n",
       "    <tr>\n",
       "      <th>610</th>\n",
       "      <td>Zoom</td>\n",
       "      <td>100</td>\n",
       "    </tr>\n",
       "    <tr>\n",
       "      <th>11</th>\n",
       "      <td>Air-Walker</td>\n",
       "      <td>100</td>\n",
       "    </tr>\n",
       "    <tr>\n",
       "      <th>16</th>\n",
       "      <td>Amazo</td>\n",
       "      <td>100</td>\n",
       "    </tr>\n",
       "    <tr>\n",
       "      <th>535</th>\n",
       "      <td>Superboy-Prime</td>\n",
       "      <td>100</td>\n",
       "    </tr>\n",
       "    <tr>\n",
       "      <th>242</th>\n",
       "      <td>General Zod</td>\n",
       "      <td>96</td>\n",
       "    </tr>\n",
       "  </tbody>\n",
       "</table>\n",
       "</div>"
      ],
      "text/plain": [
       "               Name  Speed\n",
       "610            Zoom    100\n",
       "11       Air-Walker    100\n",
       "16            Amazo    100\n",
       "535  Superboy-Prime    100\n",
       "242     General Zod     96"
      ]
     },
     "execution_count": 57,
     "metadata": {},
     "output_type": "execute_result"
    }
   ],
   "source": [
    "#analysing speed of supervillians\n",
    "speed_vill = supervillians.sort_values(by = \"Speed\", ascending = False)\n",
    "speed_vill[[\"Name\",\"Speed\"]].head()"
   ]
  },
  {
   "cell_type": "code",
   "execution_count": 58,
   "id": "87a3923b",
   "metadata": {},
   "outputs": [
    {
     "data": {
      "text/html": [
       "<div>\n",
       "<style scoped>\n",
       "    .dataframe tbody tr th:only-of-type {\n",
       "        vertical-align: middle;\n",
       "    }\n",
       "\n",
       "    .dataframe tbody tr th {\n",
       "        vertical-align: top;\n",
       "    }\n",
       "\n",
       "    .dataframe thead th {\n",
       "        text-align: right;\n",
       "    }\n",
       "</style>\n",
       "<table border=\"1\" class=\"dataframe\">\n",
       "  <thead>\n",
       "    <tr style=\"text-align: right;\">\n",
       "      <th></th>\n",
       "      <th>Name</th>\n",
       "      <th>Intelligence</th>\n",
       "    </tr>\n",
       "  </thead>\n",
       "  <tbody>\n",
       "    <tr>\n",
       "      <th>386</th>\n",
       "      <td>Mister Mxyzptlk</td>\n",
       "      <td>113</td>\n",
       "    </tr>\n",
       "    <tr>\n",
       "      <th>338</th>\n",
       "      <td>Lex Luthor</td>\n",
       "      <td>100</td>\n",
       "    </tr>\n",
       "    <tr>\n",
       "      <th>336</th>\n",
       "      <td>Leader</td>\n",
       "      <td>100</td>\n",
       "    </tr>\n",
       "    <tr>\n",
       "      <th>122</th>\n",
       "      <td>Brainiac</td>\n",
       "      <td>100</td>\n",
       "    </tr>\n",
       "    <tr>\n",
       "      <th>194</th>\n",
       "      <td>Doctor Doom</td>\n",
       "      <td>100</td>\n",
       "    </tr>\n",
       "  </tbody>\n",
       "</table>\n",
       "</div>"
      ],
      "text/plain": [
       "                Name  Intelligence\n",
       "386  Mister Mxyzptlk           113\n",
       "338       Lex Luthor           100\n",
       "336           Leader           100\n",
       "122         Brainiac           100\n",
       "194      Doctor Doom           100"
      ]
     },
     "execution_count": 58,
     "metadata": {},
     "output_type": "execute_result"
    }
   ],
   "source": [
    "#analysing intelligence of supervillians\n",
    "intell_vill = supervillians.sort_values(by = \"Intelligence\", ascending = False)\n",
    "intell_vill[[\"Name\",\"Intelligence\"]].head()"
   ]
  },
  {
   "cell_type": "code",
   "execution_count": 61,
   "id": "9c706d4e",
   "metadata": {},
   "outputs": [
    {
     "data": {
      "text/html": [
       "<div>\n",
       "<style scoped>\n",
       "    .dataframe tbody tr th:only-of-type {\n",
       "        vertical-align: middle;\n",
       "    }\n",
       "\n",
       "    .dataframe tbody tr th {\n",
       "        vertical-align: top;\n",
       "    }\n",
       "\n",
       "    .dataframe thead th {\n",
       "        text-align: right;\n",
       "    }\n",
       "</style>\n",
       "<table border=\"1\" class=\"dataframe\">\n",
       "  <thead>\n",
       "    <tr style=\"text-align: right;\">\n",
       "      <th></th>\n",
       "      <th>Name</th>\n",
       "      <th>Total</th>\n",
       "    </tr>\n",
       "  </thead>\n",
       "  <tbody>\n",
       "    <tr>\n",
       "      <th>535</th>\n",
       "      <td>Superboy-Prime</td>\n",
       "      <td>579</td>\n",
       "    </tr>\n",
       "    <tr>\n",
       "      <th>242</th>\n",
       "      <td>General Zod</td>\n",
       "      <td>579</td>\n",
       "    </tr>\n",
       "    <tr>\n",
       "      <th>16</th>\n",
       "      <td>Amazo</td>\n",
       "      <td>575</td>\n",
       "    </tr>\n",
       "    <tr>\n",
       "      <th>203</th>\n",
       "      <td>Dormammu</td>\n",
       "      <td>546</td>\n",
       "    </tr>\n",
       "    <tr>\n",
       "      <th>201</th>\n",
       "      <td>Doomsday</td>\n",
       "      <td>545</td>\n",
       "    </tr>\n",
       "  </tbody>\n",
       "</table>\n",
       "</div>"
      ],
      "text/plain": [
       "               Name  Total\n",
       "535  Superboy-Prime    579\n",
       "242     General Zod    579\n",
       "16            Amazo    575\n",
       "203        Dormammu    546\n",
       "201        Doomsday    545"
      ]
     },
     "execution_count": 61,
     "metadata": {},
     "output_type": "execute_result"
    }
   ],
   "source": [
    "#checking total supervillians\n",
    "total_vill = supervillians.sort_values(by = \"Total\", ascending = False)\n",
    "total_vill[[\"Name\", \"Total\"]].head()"
   ]
  },
  {
   "cell_type": "code",
   "execution_count": 67,
   "id": "06a34a71",
   "metadata": {},
   "outputs": [
    {
     "data": {
      "text/html": [
       "<div>\n",
       "<style scoped>\n",
       "    .dataframe tbody tr th:only-of-type {\n",
       "        vertical-align: middle;\n",
       "    }\n",
       "\n",
       "    .dataframe tbody tr th {\n",
       "        vertical-align: top;\n",
       "    }\n",
       "\n",
       "    .dataframe thead th {\n",
       "        text-align: right;\n",
       "    }\n",
       "</style>\n",
       "<table border=\"1\" class=\"dataframe\">\n",
       "  <thead>\n",
       "    <tr style=\"text-align: right;\">\n",
       "      <th></th>\n",
       "      <th>Name</th>\n",
       "      <th>Combat</th>\n",
       "    </tr>\n",
       "  </thead>\n",
       "  <tbody>\n",
       "    <tr>\n",
       "      <th>475</th>\n",
       "      <td>Sabretooth</td>\n",
       "      <td>100</td>\n",
       "    </tr>\n",
       "    <tr>\n",
       "      <th>16</th>\n",
       "      <td>Amazo</td>\n",
       "      <td>100</td>\n",
       "    </tr>\n",
       "    <tr>\n",
       "      <th>449</th>\n",
       "      <td>Ra's Al Ghul</td>\n",
       "      <td>100</td>\n",
       "    </tr>\n",
       "    <tr>\n",
       "      <th>464</th>\n",
       "      <td>Rick Flag</td>\n",
       "      <td>95</td>\n",
       "    </tr>\n",
       "    <tr>\n",
       "      <th>180</th>\n",
       "      <td>Darkseid</td>\n",
       "      <td>95</td>\n",
       "    </tr>\n",
       "  </tbody>\n",
       "</table>\n",
       "</div>"
      ],
      "text/plain": [
       "             Name  Combat\n",
       "475    Sabretooth     100\n",
       "16          Amazo     100\n",
       "449  Ra's Al Ghul     100\n",
       "464     Rick Flag      95\n",
       "180      Darkseid      95"
      ]
     },
     "execution_count": 67,
     "metadata": {},
     "output_type": "execute_result"
    }
   ],
   "source": [
    "# analying and plotting combat of supervillians\n",
    "combat_vill = supervillians.sort_values(by = \"Combat\", ascending = False)\n",
    "combat_vill[[\"Name\", \"Combat\"]].head()"
   ]
  },
  {
   "cell_type": "code",
   "execution_count": 69,
   "id": "ab05733f",
   "metadata": {},
   "outputs": [
    {
     "data": {
      "text/plain": [
       "Text(0, 0.5, 'Number of Superheroes')"
      ]
     },
     "execution_count": 69,
     "metadata": {},
     "output_type": "execute_result"
    },
    {
     "data": {
      "image/png": "[encoded data removed]",
      "text/plain": [
       "<Figure size 432x288 with 1 Axes>"
      ]
     },
     "metadata": {
      "needs_background": "light"
     },
     "output_type": "display_data"
    }
   ],
   "source": [
    "#plotting histogram for combat data\n",
    "x = combat_vill[\"Combat\"]\n",
    "plt.hist(x)\n",
    "plt.title(\"Combat Distribution\", color = \"green\")\n",
    "plt.xlabel(\"Combat\", color = \"green\")\n",
    "plt.ylabel(\"Number of Superheroes\",color = \"green\")"
   ]
  },
  {
   "cell_type": "code",
   "execution_count": null,
   "id": "5f75e0dd",
   "metadata": {},
   "outputs": [],
   "source": [
    "\n"
   ]
  }
 ],
 "metadata": {
  "kernelspec": {
   "display_name": "Python 3 (ipykernel)",
   "language": "python",
   "name": "python3"
  },
  "language_info": {
   "codemirror_mode": {
    "name": "ipython",
    "version": 3
   },
   "file_extension": ".py",
   "mimetype": "text/x-python",
   "name": "python",
   "nbconvert_exporter": "python",
   "pygments_lexer": "ipython3",
   "version": "3.9.7"
  }
 },
 "nbformat": 4,
 "nbformat_minor": 5
}
